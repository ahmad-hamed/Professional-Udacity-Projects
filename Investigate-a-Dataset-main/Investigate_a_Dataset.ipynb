{
 "cells": [
  {
   "cell_type": "markdown",
   "metadata": {},
   "source": [
    "# Overview\n",
    " ### In this project I will use TMDb Movie data set which this data set contains information about 10,000 \n",
    " \n",
    "### movies collected from The Movie Database (TMDb), including user ratings and revenue, also i will wrangle\n",
    "\n",
    "### and analyze this data set to answer the following questions:\n",
    " - Movies with highest and lowest runtime\n",
    " - Movies average runtime\n",
    " - Movies with highest and lowest budget\n",
    " - Movies with highest and lowest revenue\n",
    " - Movies with highest and lowest profit\n",
    " - Discuss for each year, sum of profits of movies "
   ]
  },
  {
   "cell_type": "code",
   "execution_count": 3,
   "metadata": {},
   "outputs": [],
   "source": [
    "import pandas as pd\n",
    "import numpy as np\n",
    "import matplotlib.pyplot as plt\n",
    "%matplotlib inline"
   ]
  },
  {
   "cell_type": "markdown",
   "metadata": {},
   "source": [
    "# Gathering"
   ]
  },
  {
   "cell_type": "code",
   "execution_count": 4,
   "metadata": {},
   "outputs": [
    {
     "data": {
      "text/html": [
       "<div>\n",
       "<style scoped>\n",
       "    .dataframe tbody tr th:only-of-type {\n",
       "        vertical-align: middle;\n",
       "    }\n",
       "\n",
       "    .dataframe tbody tr th {\n",
       "        vertical-align: top;\n",
       "    }\n",
       "\n",
       "    .dataframe thead th {\n",
       "        text-align: right;\n",
       "    }\n",
       "</style>\n",
       "<table border=\"1\" class=\"dataframe\">\n",
       "  <thead>\n",
       "    <tr style=\"text-align: right;\">\n",
       "      <th></th>\n",
       "      <th>id</th>\n",
       "      <th>imdb_id</th>\n",
       "      <th>popularity</th>\n",
       "      <th>budget</th>\n",
       "      <th>revenue</th>\n",
       "      <th>original_title</th>\n",
       "      <th>cast</th>\n",
       "      <th>homepage</th>\n",
       "      <th>director</th>\n",
       "      <th>tagline</th>\n",
       "      <th>...</th>\n",
       "      <th>overview</th>\n",
       "      <th>runtime</th>\n",
       "      <th>genres</th>\n",
       "      <th>production_companies</th>\n",
       "      <th>release_date</th>\n",
       "      <th>vote_count</th>\n",
       "      <th>vote_average</th>\n",
       "      <th>release_year</th>\n",
       "      <th>budget_adj</th>\n",
       "      <th>revenue_adj</th>\n",
       "    </tr>\n",
       "  </thead>\n",
       "  <tbody>\n",
       "    <tr>\n",
       "      <th>0</th>\n",
       "      <td>135397</td>\n",
       "      <td>tt0369610</td>\n",
       "      <td>32.985763</td>\n",
       "      <td>150000000</td>\n",
       "      <td>1513528810</td>\n",
       "      <td>Jurassic World</td>\n",
       "      <td>Chris Pratt|Bryce Dallas Howard|Irrfan Khan|Vi...</td>\n",
       "      <td>http://www.jurassicworld.com/</td>\n",
       "      <td>Colin Trevorrow</td>\n",
       "      <td>The park is open.</td>\n",
       "      <td>...</td>\n",
       "      <td>Twenty-two years after the events of Jurassic ...</td>\n",
       "      <td>124</td>\n",
       "      <td>Action|Adventure|Science Fiction|Thriller</td>\n",
       "      <td>Universal Studios|Amblin Entertainment|Legenda...</td>\n",
       "      <td>6/9/15</td>\n",
       "      <td>5562</td>\n",
       "      <td>6.5</td>\n",
       "      <td>2015</td>\n",
       "      <td>1.379999e+08</td>\n",
       "      <td>1.392446e+09</td>\n",
       "    </tr>\n",
       "    <tr>\n",
       "      <th>1</th>\n",
       "      <td>76341</td>\n",
       "      <td>tt1392190</td>\n",
       "      <td>28.419936</td>\n",
       "      <td>150000000</td>\n",
       "      <td>378436354</td>\n",
       "      <td>Mad Max: Fury Road</td>\n",
       "      <td>Tom Hardy|Charlize Theron|Hugh Keays-Byrne|Nic...</td>\n",
       "      <td>http://www.madmaxmovie.com/</td>\n",
       "      <td>George Miller</td>\n",
       "      <td>What a Lovely Day.</td>\n",
       "      <td>...</td>\n",
       "      <td>An apocalyptic story set in the furthest reach...</td>\n",
       "      <td>120</td>\n",
       "      <td>Action|Adventure|Science Fiction|Thriller</td>\n",
       "      <td>Village Roadshow Pictures|Kennedy Miller Produ...</td>\n",
       "      <td>5/13/15</td>\n",
       "      <td>6185</td>\n",
       "      <td>7.1</td>\n",
       "      <td>2015</td>\n",
       "      <td>1.379999e+08</td>\n",
       "      <td>3.481613e+08</td>\n",
       "    </tr>\n",
       "    <tr>\n",
       "      <th>2</th>\n",
       "      <td>262500</td>\n",
       "      <td>tt2908446</td>\n",
       "      <td>13.112507</td>\n",
       "      <td>110000000</td>\n",
       "      <td>295238201</td>\n",
       "      <td>Insurgent</td>\n",
       "      <td>Shailene Woodley|Theo James|Kate Winslet|Ansel...</td>\n",
       "      <td>http://www.thedivergentseries.movie/#insurgent</td>\n",
       "      <td>Robert Schwentke</td>\n",
       "      <td>One Choice Can Destroy You</td>\n",
       "      <td>...</td>\n",
       "      <td>Beatrice Prior must confront her inner demons ...</td>\n",
       "      <td>119</td>\n",
       "      <td>Adventure|Science Fiction|Thriller</td>\n",
       "      <td>Summit Entertainment|Mandeville Films|Red Wago...</td>\n",
       "      <td>3/18/15</td>\n",
       "      <td>2480</td>\n",
       "      <td>6.3</td>\n",
       "      <td>2015</td>\n",
       "      <td>1.012000e+08</td>\n",
       "      <td>2.716190e+08</td>\n",
       "    </tr>\n",
       "    <tr>\n",
       "      <th>3</th>\n",
       "      <td>140607</td>\n",
       "      <td>tt2488496</td>\n",
       "      <td>11.173104</td>\n",
       "      <td>200000000</td>\n",
       "      <td>2068178225</td>\n",
       "      <td>Star Wars: The Force Awakens</td>\n",
       "      <td>Harrison Ford|Mark Hamill|Carrie Fisher|Adam D...</td>\n",
       "      <td>http://www.starwars.com/films/star-wars-episod...</td>\n",
       "      <td>J.J. Abrams</td>\n",
       "      <td>Every generation has a story.</td>\n",
       "      <td>...</td>\n",
       "      <td>Thirty years after defeating the Galactic Empi...</td>\n",
       "      <td>136</td>\n",
       "      <td>Action|Adventure|Science Fiction|Fantasy</td>\n",
       "      <td>Lucasfilm|Truenorth Productions|Bad Robot</td>\n",
       "      <td>12/15/15</td>\n",
       "      <td>5292</td>\n",
       "      <td>7.5</td>\n",
       "      <td>2015</td>\n",
       "      <td>1.839999e+08</td>\n",
       "      <td>1.902723e+09</td>\n",
       "    </tr>\n",
       "    <tr>\n",
       "      <th>4</th>\n",
       "      <td>168259</td>\n",
       "      <td>tt2820852</td>\n",
       "      <td>9.335014</td>\n",
       "      <td>190000000</td>\n",
       "      <td>1506249360</td>\n",
       "      <td>Furious 7</td>\n",
       "      <td>Vin Diesel|Paul Walker|Jason Statham|Michelle ...</td>\n",
       "      <td>http://www.furious7.com/</td>\n",
       "      <td>James Wan</td>\n",
       "      <td>Vengeance Hits Home</td>\n",
       "      <td>...</td>\n",
       "      <td>Deckard Shaw seeks revenge against Dominic Tor...</td>\n",
       "      <td>137</td>\n",
       "      <td>Action|Crime|Thriller</td>\n",
       "      <td>Universal Pictures|Original Film|Media Rights ...</td>\n",
       "      <td>4/1/15</td>\n",
       "      <td>2947</td>\n",
       "      <td>7.3</td>\n",
       "      <td>2015</td>\n",
       "      <td>1.747999e+08</td>\n",
       "      <td>1.385749e+09</td>\n",
       "    </tr>\n",
       "  </tbody>\n",
       "</table>\n",
       "<p>5 rows × 21 columns</p>\n",
       "</div>"
      ],
      "text/plain": [
       "       id    imdb_id  popularity     budget     revenue  \\\n",
       "0  135397  tt0369610   32.985763  150000000  1513528810   \n",
       "1   76341  tt1392190   28.419936  150000000   378436354   \n",
       "2  262500  tt2908446   13.112507  110000000   295238201   \n",
       "3  140607  tt2488496   11.173104  200000000  2068178225   \n",
       "4  168259  tt2820852    9.335014  190000000  1506249360   \n",
       "\n",
       "                 original_title  \\\n",
       "0                Jurassic World   \n",
       "1            Mad Max: Fury Road   \n",
       "2                     Insurgent   \n",
       "3  Star Wars: The Force Awakens   \n",
       "4                     Furious 7   \n",
       "\n",
       "                                                cast  \\\n",
       "0  Chris Pratt|Bryce Dallas Howard|Irrfan Khan|Vi...   \n",
       "1  Tom Hardy|Charlize Theron|Hugh Keays-Byrne|Nic...   \n",
       "2  Shailene Woodley|Theo James|Kate Winslet|Ansel...   \n",
       "3  Harrison Ford|Mark Hamill|Carrie Fisher|Adam D...   \n",
       "4  Vin Diesel|Paul Walker|Jason Statham|Michelle ...   \n",
       "\n",
       "                                            homepage          director  \\\n",
       "0                      http://www.jurassicworld.com/   Colin Trevorrow   \n",
       "1                        http://www.madmaxmovie.com/     George Miller   \n",
       "2     http://www.thedivergentseries.movie/#insurgent  Robert Schwentke   \n",
       "3  http://www.starwars.com/films/star-wars-episod...       J.J. Abrams   \n",
       "4                           http://www.furious7.com/         James Wan   \n",
       "\n",
       "                         tagline  ...  \\\n",
       "0              The park is open.  ...   \n",
       "1             What a Lovely Day.  ...   \n",
       "2     One Choice Can Destroy You  ...   \n",
       "3  Every generation has a story.  ...   \n",
       "4            Vengeance Hits Home  ...   \n",
       "\n",
       "                                            overview runtime  \\\n",
       "0  Twenty-two years after the events of Jurassic ...     124   \n",
       "1  An apocalyptic story set in the furthest reach...     120   \n",
       "2  Beatrice Prior must confront her inner demons ...     119   \n",
       "3  Thirty years after defeating the Galactic Empi...     136   \n",
       "4  Deckard Shaw seeks revenge against Dominic Tor...     137   \n",
       "\n",
       "                                      genres  \\\n",
       "0  Action|Adventure|Science Fiction|Thriller   \n",
       "1  Action|Adventure|Science Fiction|Thriller   \n",
       "2         Adventure|Science Fiction|Thriller   \n",
       "3   Action|Adventure|Science Fiction|Fantasy   \n",
       "4                      Action|Crime|Thriller   \n",
       "\n",
       "                                production_companies release_date vote_count  \\\n",
       "0  Universal Studios|Amblin Entertainment|Legenda...       6/9/15       5562   \n",
       "1  Village Roadshow Pictures|Kennedy Miller Produ...      5/13/15       6185   \n",
       "2  Summit Entertainment|Mandeville Films|Red Wago...      3/18/15       2480   \n",
       "3          Lucasfilm|Truenorth Productions|Bad Robot     12/15/15       5292   \n",
       "4  Universal Pictures|Original Film|Media Rights ...       4/1/15       2947   \n",
       "\n",
       "   vote_average  release_year    budget_adj   revenue_adj  \n",
       "0           6.5          2015  1.379999e+08  1.392446e+09  \n",
       "1           7.1          2015  1.379999e+08  3.481613e+08  \n",
       "2           6.3          2015  1.012000e+08  2.716190e+08  \n",
       "3           7.5          2015  1.839999e+08  1.902723e+09  \n",
       "4           7.3          2015  1.747999e+08  1.385749e+09  \n",
       "\n",
       "[5 rows x 21 columns]"
      ]
     },
     "execution_count": 4,
     "metadata": {},
     "output_type": "execute_result"
    }
   ],
   "source": [
    "df = pd.read_csv('tmdb-movies.csv')\n",
    "df.head()"
   ]
  },
  {
   "cell_type": "markdown",
   "metadata": {},
   "source": [
    "# Assessing"
   ]
  },
  {
   "cell_type": "code",
   "execution_count": 5,
   "metadata": {},
   "outputs": [
    {
     "name": "stdout",
     "output_type": "stream",
     "text": [
      "<class 'pandas.core.frame.DataFrame'>\n",
      "RangeIndex: 10866 entries, 0 to 10865\n",
      "Data columns (total 21 columns):\n",
      " #   Column                Non-Null Count  Dtype  \n",
      "---  ------                --------------  -----  \n",
      " 0   id                    10866 non-null  int64  \n",
      " 1   imdb_id               10856 non-null  object \n",
      " 2   popularity            10866 non-null  float64\n",
      " 3   budget                10866 non-null  int64  \n",
      " 4   revenue               10866 non-null  int64  \n",
      " 5   original_title        10866 non-null  object \n",
      " 6   cast                  10790 non-null  object \n",
      " 7   homepage              2936 non-null   object \n",
      " 8   director              10822 non-null  object \n",
      " 9   tagline               8042 non-null   object \n",
      " 10  keywords              9373 non-null   object \n",
      " 11  overview              10862 non-null  object \n",
      " 12  runtime               10866 non-null  int64  \n",
      " 13  genres                10843 non-null  object \n",
      " 14  production_companies  9836 non-null   object \n",
      " 15  release_date          10866 non-null  object \n",
      " 16  vote_count            10866 non-null  int64  \n",
      " 17  vote_average          10866 non-null  float64\n",
      " 18  release_year          10866 non-null  int64  \n",
      " 19  budget_adj            10866 non-null  float64\n",
      " 20  revenue_adj           10866 non-null  float64\n",
      "dtypes: float64(4), int64(6), object(11)\n",
      "memory usage: 1.7+ MB\n"
     ]
    }
   ],
   "source": [
    "df.info()"
   ]
  },
  {
   "cell_type": "code",
   "execution_count": 6,
   "metadata": {},
   "outputs": [
    {
     "data": {
      "text/plain": [
       "1"
      ]
     },
     "execution_count": 6,
     "metadata": {},
     "output_type": "execute_result"
    }
   ],
   "source": [
    "sum(df.duplicated())"
   ]
  },
  {
   "cell_type": "code",
   "execution_count": 7,
   "metadata": {},
   "outputs": [
    {
     "data": {
      "text/html": [
       "<div>\n",
       "<style scoped>\n",
       "    .dataframe tbody tr th:only-of-type {\n",
       "        vertical-align: middle;\n",
       "    }\n",
       "\n",
       "    .dataframe tbody tr th {\n",
       "        vertical-align: top;\n",
       "    }\n",
       "\n",
       "    .dataframe thead th {\n",
       "        text-align: right;\n",
       "    }\n",
       "</style>\n",
       "<table border=\"1\" class=\"dataframe\">\n",
       "  <thead>\n",
       "    <tr style=\"text-align: right;\">\n",
       "      <th></th>\n",
       "      <th>id</th>\n",
       "      <th>imdb_id</th>\n",
       "      <th>popularity</th>\n",
       "      <th>budget</th>\n",
       "      <th>revenue</th>\n",
       "      <th>original_title</th>\n",
       "      <th>cast</th>\n",
       "      <th>homepage</th>\n",
       "      <th>director</th>\n",
       "      <th>tagline</th>\n",
       "      <th>...</th>\n",
       "      <th>overview</th>\n",
       "      <th>runtime</th>\n",
       "      <th>genres</th>\n",
       "      <th>production_companies</th>\n",
       "      <th>release_date</th>\n",
       "      <th>vote_count</th>\n",
       "      <th>vote_average</th>\n",
       "      <th>release_year</th>\n",
       "      <th>budget_adj</th>\n",
       "      <th>revenue_adj</th>\n",
       "    </tr>\n",
       "  </thead>\n",
       "  <tbody>\n",
       "    <tr>\n",
       "      <th>3214</th>\n",
       "      <td>22007</td>\n",
       "      <td>tt1015474</td>\n",
       "      <td>0.241170</td>\n",
       "      <td>0</td>\n",
       "      <td>0</td>\n",
       "      <td>Train</td>\n",
       "      <td>Thora Birch|Gideon Emery|Gloria Votsis|Derek M...</td>\n",
       "      <td>NaN</td>\n",
       "      <td>Gideon Raff</td>\n",
       "      <td>You're in for a hell of a ride.</td>\n",
       "      <td>...</td>\n",
       "      <td>This new Train tells the tale of an American w...</td>\n",
       "      <td>94</td>\n",
       "      <td>Horror|Thriller</td>\n",
       "      <td>Nu Image Films|Millennium Films</td>\n",
       "      <td>10/16/08</td>\n",
       "      <td>19</td>\n",
       "      <td>4.9</td>\n",
       "      <td>2008</td>\n",
       "      <td>0.000000e+00</td>\n",
       "      <td>0.000000e+00</td>\n",
       "    </tr>\n",
       "    <tr>\n",
       "      <th>1659</th>\n",
       "      <td>14853</td>\n",
       "      <td>tt1214983</td>\n",
       "      <td>0.370303</td>\n",
       "      <td>0</td>\n",
       "      <td>0</td>\n",
       "      <td>Screamers: The Hunting</td>\n",
       "      <td>Stephen Amell|Greg Bryk|Stephen Patrick Dunn|L...</td>\n",
       "      <td>NaN</td>\n",
       "      <td>Sheldon Wilson</td>\n",
       "      <td>The Perfect Weapon Is Now The Ultimate Killing...</td>\n",
       "      <td>...</td>\n",
       "      <td>A group of humans arrive on Sirius 6-B to inve...</td>\n",
       "      <td>94</td>\n",
       "      <td>Action|Horror|Science Fiction</td>\n",
       "      <td>Pope Productions</td>\n",
       "      <td>2/17/09</td>\n",
       "      <td>17</td>\n",
       "      <td>4.2</td>\n",
       "      <td>2009</td>\n",
       "      <td>0.000000e+00</td>\n",
       "      <td>0.000000e+00</td>\n",
       "    </tr>\n",
       "    <tr>\n",
       "      <th>122</th>\n",
       "      <td>277355</td>\n",
       "      <td>tt1945084</td>\n",
       "      <td>1.342839</td>\n",
       "      <td>0</td>\n",
       "      <td>0</td>\n",
       "      <td>Everly</td>\n",
       "      <td>Salma Hayek|Hiroyuki Watanabe|Jennifer Blanc|T...</td>\n",
       "      <td>NaN</td>\n",
       "      <td>Joe Lynch</td>\n",
       "      <td>Enter if you dare.</td>\n",
       "      <td>...</td>\n",
       "      <td>After she betrays a powerful mob boss, a woman...</td>\n",
       "      <td>90</td>\n",
       "      <td>Thriller|Action</td>\n",
       "      <td>Crime Scene Pictures|Radius-TWC|Anonymous Cont...</td>\n",
       "      <td>1/23/15</td>\n",
       "      <td>169</td>\n",
       "      <td>5.1</td>\n",
       "      <td>2015</td>\n",
       "      <td>0.000000e+00</td>\n",
       "      <td>0.000000e+00</td>\n",
       "    </tr>\n",
       "    <tr>\n",
       "      <th>1005</th>\n",
       "      <td>206296</td>\n",
       "      <td>tt2474024</td>\n",
       "      <td>0.318608</td>\n",
       "      <td>0</td>\n",
       "      <td>0</td>\n",
       "      <td>The Last Five Years</td>\n",
       "      <td>Anna Kendrick|Jeremy Jordan|Natalie Knepp|Bett...</td>\n",
       "      <td>NaN</td>\n",
       "      <td>Richard LaGravenese</td>\n",
       "      <td>There are two sides to every love story.</td>\n",
       "      <td>...</td>\n",
       "      <td>In New York, a struggling actress and a succes...</td>\n",
       "      <td>94</td>\n",
       "      <td>Comedy|Drama|Music|Romance</td>\n",
       "      <td>Lucky Monkey Pictures|Sh-K-Boom Records|Grand ...</td>\n",
       "      <td>11/3/14</td>\n",
       "      <td>108</td>\n",
       "      <td>5.4</td>\n",
       "      <td>2014</td>\n",
       "      <td>0.000000e+00</td>\n",
       "      <td>0.000000e+00</td>\n",
       "    </tr>\n",
       "    <tr>\n",
       "      <th>6686</th>\n",
       "      <td>13967</td>\n",
       "      <td>tt0482546</td>\n",
       "      <td>0.620633</td>\n",
       "      <td>30000000</td>\n",
       "      <td>35078241</td>\n",
       "      <td>Miss Potter</td>\n",
       "      <td>Ewan McGregor|RenÃ©e Zellweger|Emily Watson|Ba...</td>\n",
       "      <td>NaN</td>\n",
       "      <td>Chris Noonan</td>\n",
       "      <td>The life of Beatrix Potter is the most enchant...</td>\n",
       "      <td>...</td>\n",
       "      <td>The story of Beatrix Potter, the author of the...</td>\n",
       "      <td>92</td>\n",
       "      <td>Drama|Family|Romance</td>\n",
       "      <td>BBC Films</td>\n",
       "      <td>12/3/06</td>\n",
       "      <td>81</td>\n",
       "      <td>6.2</td>\n",
       "      <td>2006</td>\n",
       "      <td>3.245007e+07</td>\n",
       "      <td>3.794305e+07</td>\n",
       "    </tr>\n",
       "    <tr>\n",
       "      <th>2032</th>\n",
       "      <td>23759</td>\n",
       "      <td>tt1020558</td>\n",
       "      <td>0.804348</td>\n",
       "      <td>12000000</td>\n",
       "      <td>6814789</td>\n",
       "      <td>Centurion</td>\n",
       "      <td>Michael Fassbender|Olga Kurylenko|David Morris...</td>\n",
       "      <td>http://www.centurionmovie.com/</td>\n",
       "      <td>Neil Marshall</td>\n",
       "      <td>History is written in blood</td>\n",
       "      <td>...</td>\n",
       "      <td>Britain, A.D. 117. Quintus Dias, the sole surv...</td>\n",
       "      <td>97</td>\n",
       "      <td>Drama|Action|Thriller</td>\n",
       "      <td>PathÃ© Pictures International|UK Film Council|...</td>\n",
       "      <td>2/15/10</td>\n",
       "      <td>198</td>\n",
       "      <td>5.7</td>\n",
       "      <td>2010</td>\n",
       "      <td>1.200000e+07</td>\n",
       "      <td>6.814789e+06</td>\n",
       "    </tr>\n",
       "    <tr>\n",
       "      <th>2590</th>\n",
       "      <td>31582</td>\n",
       "      <td>tt0155711</td>\n",
       "      <td>0.186474</td>\n",
       "      <td>0</td>\n",
       "      <td>4488529</td>\n",
       "      <td>Flawless</td>\n",
       "      <td>Robert De Niro|Philip Seymour Hoffman|Barry Mi...</td>\n",
       "      <td>NaN</td>\n",
       "      <td>Joel Schumacher</td>\n",
       "      <td>NaN</td>\n",
       "      <td>...</td>\n",
       "      <td>An ultraconservative police officer suffers a ...</td>\n",
       "      <td>112</td>\n",
       "      <td>Comedy|Drama</td>\n",
       "      <td>Metro-Goldwyn-Mayer (MGM)</td>\n",
       "      <td>11/26/99</td>\n",
       "      <td>24</td>\n",
       "      <td>6.2</td>\n",
       "      <td>1999</td>\n",
       "      <td>0.000000e+00</td>\n",
       "      <td>5.875722e+06</td>\n",
       "    </tr>\n",
       "    <tr>\n",
       "      <th>8596</th>\n",
       "      <td>17795</td>\n",
       "      <td>tt0117119</td>\n",
       "      <td>0.338300</td>\n",
       "      <td>0</td>\n",
       "      <td>0</td>\n",
       "      <td>My Fellow Americans</td>\n",
       "      <td>Jack Lemmon|James Garner|Dan Aykroyd|John Hear...</td>\n",
       "      <td>NaN</td>\n",
       "      <td>Peter Segal</td>\n",
       "      <td>A comedy about life, liberty and the pursuit o...</td>\n",
       "      <td>...</td>\n",
       "      <td>They used to run the country. Now they're runn...</td>\n",
       "      <td>101</td>\n",
       "      <td>Comedy|Drama</td>\n",
       "      <td>Warner Bros.|Storyline Entertainment|Peters En...</td>\n",
       "      <td>12/20/96</td>\n",
       "      <td>14</td>\n",
       "      <td>6.9</td>\n",
       "      <td>1996</td>\n",
       "      <td>0.000000e+00</td>\n",
       "      <td>0.000000e+00</td>\n",
       "    </tr>\n",
       "    <tr>\n",
       "      <th>6738</th>\n",
       "      <td>7304</td>\n",
       "      <td>tt0404390</td>\n",
       "      <td>0.433874</td>\n",
       "      <td>15000000</td>\n",
       "      <td>9500000</td>\n",
       "      <td>Running Scared</td>\n",
       "      <td>Paul Walker|Cameron Bright|Vera Farmiga|Chazz ...</td>\n",
       "      <td>http://www.runningscaredthemovie.com/</td>\n",
       "      <td>Wayne Kramer</td>\n",
       "      <td>Every bullet leaves a trail.</td>\n",
       "      <td>...</td>\n",
       "      <td>After a drug-op gone bad, Joey Gazelle is put ...</td>\n",
       "      <td>122</td>\n",
       "      <td>Action|Crime|Drama|Thriller</td>\n",
       "      <td>International Production Company|True Grit Pro...</td>\n",
       "      <td>1/6/06</td>\n",
       "      <td>174</td>\n",
       "      <td>6.8</td>\n",
       "      <td>2006</td>\n",
       "      <td>1.622504e+07</td>\n",
       "      <td>1.027586e+07</td>\n",
       "    </tr>\n",
       "    <tr>\n",
       "      <th>282</th>\n",
       "      <td>293970</td>\n",
       "      <td>tt2118624</td>\n",
       "      <td>0.441882</td>\n",
       "      <td>0</td>\n",
       "      <td>0</td>\n",
       "      <td>The Final Girls</td>\n",
       "      <td>Taissa Farmiga|Malin Ã…kerman|Nina Dobrev|Alex...</td>\n",
       "      <td>NaN</td>\n",
       "      <td>Todd Strauss-Schulson</td>\n",
       "      <td>NaN</td>\n",
       "      <td>...</td>\n",
       "      <td>A young woman grieving the loss of her mother,...</td>\n",
       "      <td>91</td>\n",
       "      <td>Horror|Comedy</td>\n",
       "      <td>Groundswell Productions|Ulterior Productions|S...</td>\n",
       "      <td>10/9/15</td>\n",
       "      <td>211</td>\n",
       "      <td>6.6</td>\n",
       "      <td>2015</td>\n",
       "      <td>0.000000e+00</td>\n",
       "      <td>0.000000e+00</td>\n",
       "    </tr>\n",
       "  </tbody>\n",
       "</table>\n",
       "<p>10 rows × 21 columns</p>\n",
       "</div>"
      ],
      "text/plain": [
       "          id    imdb_id  popularity    budget   revenue  \\\n",
       "3214   22007  tt1015474    0.241170         0         0   \n",
       "1659   14853  tt1214983    0.370303         0         0   \n",
       "122   277355  tt1945084    1.342839         0         0   \n",
       "1005  206296  tt2474024    0.318608         0         0   \n",
       "6686   13967  tt0482546    0.620633  30000000  35078241   \n",
       "2032   23759  tt1020558    0.804348  12000000   6814789   \n",
       "2590   31582  tt0155711    0.186474         0   4488529   \n",
       "8596   17795  tt0117119    0.338300         0         0   \n",
       "6738    7304  tt0404390    0.433874  15000000   9500000   \n",
       "282   293970  tt2118624    0.441882         0         0   \n",
       "\n",
       "              original_title  \\\n",
       "3214                   Train   \n",
       "1659  Screamers: The Hunting   \n",
       "122                   Everly   \n",
       "1005     The Last Five Years   \n",
       "6686             Miss Potter   \n",
       "2032               Centurion   \n",
       "2590                Flawless   \n",
       "8596     My Fellow Americans   \n",
       "6738          Running Scared   \n",
       "282          The Final Girls   \n",
       "\n",
       "                                                   cast  \\\n",
       "3214  Thora Birch|Gideon Emery|Gloria Votsis|Derek M...   \n",
       "1659  Stephen Amell|Greg Bryk|Stephen Patrick Dunn|L...   \n",
       "122   Salma Hayek|Hiroyuki Watanabe|Jennifer Blanc|T...   \n",
       "1005  Anna Kendrick|Jeremy Jordan|Natalie Knepp|Bett...   \n",
       "6686  Ewan McGregor|RenÃ©e Zellweger|Emily Watson|Ba...   \n",
       "2032  Michael Fassbender|Olga Kurylenko|David Morris...   \n",
       "2590  Robert De Niro|Philip Seymour Hoffman|Barry Mi...   \n",
       "8596  Jack Lemmon|James Garner|Dan Aykroyd|John Hear...   \n",
       "6738  Paul Walker|Cameron Bright|Vera Farmiga|Chazz ...   \n",
       "282   Taissa Farmiga|Malin Ã…kerman|Nina Dobrev|Alex...   \n",
       "\n",
       "                                   homepage               director  \\\n",
       "3214                                    NaN            Gideon Raff   \n",
       "1659                                    NaN         Sheldon Wilson   \n",
       "122                                     NaN              Joe Lynch   \n",
       "1005                                    NaN    Richard LaGravenese   \n",
       "6686                                    NaN           Chris Noonan   \n",
       "2032         http://www.centurionmovie.com/          Neil Marshall   \n",
       "2590                                    NaN        Joel Schumacher   \n",
       "8596                                    NaN            Peter Segal   \n",
       "6738  http://www.runningscaredthemovie.com/           Wayne Kramer   \n",
       "282                                     NaN  Todd Strauss-Schulson   \n",
       "\n",
       "                                                tagline  ...  \\\n",
       "3214                    You're in for a hell of a ride.  ...   \n",
       "1659  The Perfect Weapon Is Now The Ultimate Killing...  ...   \n",
       "122                                  Enter if you dare.  ...   \n",
       "1005           There are two sides to every love story.  ...   \n",
       "6686  The life of Beatrix Potter is the most enchant...  ...   \n",
       "2032                        History is written in blood  ...   \n",
       "2590                                                NaN  ...   \n",
       "8596  A comedy about life, liberty and the pursuit o...  ...   \n",
       "6738                       Every bullet leaves a trail.  ...   \n",
       "282                                                 NaN  ...   \n",
       "\n",
       "                                               overview runtime  \\\n",
       "3214  This new Train tells the tale of an American w...      94   \n",
       "1659  A group of humans arrive on Sirius 6-B to inve...      94   \n",
       "122   After she betrays a powerful mob boss, a woman...      90   \n",
       "1005  In New York, a struggling actress and a succes...      94   \n",
       "6686  The story of Beatrix Potter, the author of the...      92   \n",
       "2032  Britain, A.D. 117. Quintus Dias, the sole surv...      97   \n",
       "2590  An ultraconservative police officer suffers a ...     112   \n",
       "8596  They used to run the country. Now they're runn...     101   \n",
       "6738  After a drug-op gone bad, Joey Gazelle is put ...     122   \n",
       "282   A young woman grieving the loss of her mother,...      91   \n",
       "\n",
       "                             genres  \\\n",
       "3214                Horror|Thriller   \n",
       "1659  Action|Horror|Science Fiction   \n",
       "122                 Thriller|Action   \n",
       "1005     Comedy|Drama|Music|Romance   \n",
       "6686           Drama|Family|Romance   \n",
       "2032          Drama|Action|Thriller   \n",
       "2590                   Comedy|Drama   \n",
       "8596                   Comedy|Drama   \n",
       "6738    Action|Crime|Drama|Thriller   \n",
       "282                   Horror|Comedy   \n",
       "\n",
       "                                   production_companies release_date  \\\n",
       "3214                    Nu Image Films|Millennium Films     10/16/08   \n",
       "1659                                   Pope Productions      2/17/09   \n",
       "122   Crime Scene Pictures|Radius-TWC|Anonymous Cont...      1/23/15   \n",
       "1005  Lucky Monkey Pictures|Sh-K-Boom Records|Grand ...      11/3/14   \n",
       "6686                                          BBC Films      12/3/06   \n",
       "2032  PathÃ© Pictures International|UK Film Council|...      2/15/10   \n",
       "2590                          Metro-Goldwyn-Mayer (MGM)     11/26/99   \n",
       "8596  Warner Bros.|Storyline Entertainment|Peters En...     12/20/96   \n",
       "6738  International Production Company|True Grit Pro...       1/6/06   \n",
       "282   Groundswell Productions|Ulterior Productions|S...      10/9/15   \n",
       "\n",
       "     vote_count  vote_average  release_year    budget_adj   revenue_adj  \n",
       "3214         19           4.9          2008  0.000000e+00  0.000000e+00  \n",
       "1659         17           4.2          2009  0.000000e+00  0.000000e+00  \n",
       "122         169           5.1          2015  0.000000e+00  0.000000e+00  \n",
       "1005        108           5.4          2014  0.000000e+00  0.000000e+00  \n",
       "6686         81           6.2          2006  3.245007e+07  3.794305e+07  \n",
       "2032        198           5.7          2010  1.200000e+07  6.814789e+06  \n",
       "2590         24           6.2          1999  0.000000e+00  5.875722e+06  \n",
       "8596         14           6.9          1996  0.000000e+00  0.000000e+00  \n",
       "6738        174           6.8          2006  1.622504e+07  1.027586e+07  \n",
       "282         211           6.6          2015  0.000000e+00  0.000000e+00  \n",
       "\n",
       "[10 rows x 21 columns]"
      ]
     },
     "execution_count": 7,
     "metadata": {},
     "output_type": "execute_result"
    }
   ],
   "source": [
    "df.sample(10)"
   ]
  },
  {
   "cell_type": "code",
   "execution_count": 8,
   "metadata": {},
   "outputs": [
    {
     "data": {
      "text/plain": [
       "Index(['id', 'imdb_id', 'popularity', 'budget', 'revenue', 'original_title',\n",
       "       'cast', 'homepage', 'director', 'tagline', 'keywords', 'overview',\n",
       "       'runtime', 'genres', 'production_companies', 'release_date',\n",
       "       'vote_count', 'vote_average', 'release_year', 'budget_adj',\n",
       "       'revenue_adj'],\n",
       "      dtype='object')"
      ]
     },
     "execution_count": 8,
     "metadata": {},
     "output_type": "execute_result"
    }
   ],
   "source": [
    "df.columns"
   ]
  },
  {
   "cell_type": "markdown",
   "metadata": {},
   "source": [
    "# Cleaning\n",
    "  ## Quality\n",
    "   ### Visual assessment\n",
    "   - Replace '0' in columns budget, revenue, runtime with 'NAN'\n",
    "  ## Tidness\n",
    "   - Removing unused columns ('id', 'imdb_id', 'popularity', 'homepage', 'keywords', 'overview', 'production_companies', 'vote_count', 'vote_average', 'budget_adj', 'revenue_adj')     \n",
    "   \n",
    "   - Adding column which represent the profit of movies (revenue - budget)\n",
    "   \n",
    "   \n",
    "   ### Programmatic Assessment:\n",
    "  \n",
    "  - data type of release_date column should be in date format.             \n",
    "  \n",
    "  - id column convert its data type to str.                                \n",
    "  \n",
    "  - convert release_year data type from int to str.                        \n",
    "  \n",
    "  - removing duplicate rows from data set.                                 \n",
    "   "
   ]
  },
  {
   "cell_type": "code",
   "execution_count": 9,
   "metadata": {},
   "outputs": [],
   "source": [
    "# making a copy from original datset to start cleaning Quality and Tidness issuess\n",
    "df_clean = df.copy()"
   ]
  },
  {
   "cell_type": "markdown",
   "metadata": {},
   "source": [
    "# Define\n",
    " - Fix data types of:\n",
    " - 1- release_date change to datetime format\n",
    " - 2- id columns to string data type\n",
    " - 3- release_year to string data type"
   ]
  },
  {
   "cell_type": "markdown",
   "metadata": {},
   "source": [
    "# Code"
   ]
  },
  {
   "cell_type": "code",
   "execution_count": 10,
   "metadata": {},
   "outputs": [],
   "source": [
    "# Change release_date data type to datetime format\n",
    "df_clean['release_date'] = pd.to_datetime(df_clean['release_date'])"
   ]
  },
  {
   "cell_type": "code",
   "execution_count": 11,
   "metadata": {},
   "outputs": [],
   "source": [
    "# Change id column from int to string\n",
    "df_clean['id'] = df_clean['id'].apply(str)"
   ]
  },
  {
   "cell_type": "code",
   "execution_count": 12,
   "metadata": {},
   "outputs": [],
   "source": [
    "# Change release_year from int ro srtring\n",
    "df_clean['release_year'] = df_clean['release_year'].apply(str)"
   ]
  },
  {
   "cell_type": "markdown",
   "metadata": {},
   "source": [
    "# Test"
   ]
  },
  {
   "cell_type": "code",
   "execution_count": 13,
   "metadata": {},
   "outputs": [
    {
     "name": "stdout",
     "output_type": "stream",
     "text": [
      "<class 'pandas.core.frame.DataFrame'>\n",
      "RangeIndex: 10866 entries, 0 to 10865\n",
      "Data columns (total 21 columns):\n",
      " #   Column                Non-Null Count  Dtype         \n",
      "---  ------                --------------  -----         \n",
      " 0   id                    10866 non-null  object        \n",
      " 1   imdb_id               10856 non-null  object        \n",
      " 2   popularity            10866 non-null  float64       \n",
      " 3   budget                10866 non-null  int64         \n",
      " 4   revenue               10866 non-null  int64         \n",
      " 5   original_title        10866 non-null  object        \n",
      " 6   cast                  10790 non-null  object        \n",
      " 7   homepage              2936 non-null   object        \n",
      " 8   director              10822 non-null  object        \n",
      " 9   tagline               8042 non-null   object        \n",
      " 10  keywords              9373 non-null   object        \n",
      " 11  overview              10862 non-null  object        \n",
      " 12  runtime               10866 non-null  int64         \n",
      " 13  genres                10843 non-null  object        \n",
      " 14  production_companies  9836 non-null   object        \n",
      " 15  release_date          10866 non-null  datetime64[ns]\n",
      " 16  vote_count            10866 non-null  int64         \n",
      " 17  vote_average          10866 non-null  float64       \n",
      " 18  release_year          10866 non-null  object        \n",
      " 19  budget_adj            10866 non-null  float64       \n",
      " 20  revenue_adj           10866 non-null  float64       \n",
      "dtypes: datetime64[ns](1), float64(4), int64(4), object(12)\n",
      "memory usage: 1.7+ MB\n"
     ]
    }
   ],
   "source": [
    "df_clean.info()"
   ]
  },
  {
   "cell_type": "markdown",
   "metadata": {},
   "source": [
    "# Define \n",
    "- Removing duplicate rows from data set"
   ]
  },
  {
   "cell_type": "markdown",
   "metadata": {},
   "source": [
    "# Code"
   ]
  },
  {
   "cell_type": "code",
   "execution_count": 14,
   "metadata": {},
   "outputs": [],
   "source": [
    "df_clean.drop_duplicates(inplace= True)"
   ]
  },
  {
   "cell_type": "markdown",
   "metadata": {},
   "source": [
    "# Test"
   ]
  },
  {
   "cell_type": "code",
   "execution_count": 15,
   "metadata": {},
   "outputs": [
    {
     "data": {
      "text/plain": [
       "0"
      ]
     },
     "execution_count": 15,
     "metadata": {},
     "output_type": "execute_result"
    }
   ],
   "source": [
    "sum(df_clean.duplicated())"
   ]
  },
  {
   "cell_type": "markdown",
   "metadata": {},
   "source": [
    "# Define \n",
    " - Removing unused columns ('id', 'imdb_id', 'popularity', 'homepage', 'keywords', 'overview', 'production_companies', 'vote_count', 'vote_average', 'budget_adj', 'revenue_adj')"
   ]
  },
  {
   "cell_type": "markdown",
   "metadata": {},
   "source": [
    "# Code"
   ]
  },
  {
   "cell_type": "code",
   "execution_count": 16,
   "metadata": {},
   "outputs": [],
   "source": [
    "# Making a list for columns that will remove\n",
    "drop_columns = ['id', 'imdb_id', 'popularity', 'homepage', 'keywords', \n",
    "                'overview', 'production_companies', 'vote_count', 'vote_average', 'budget_adj', 'revenue_adj']"
   ]
  },
  {
   "cell_type": "code",
   "execution_count": 17,
   "metadata": {},
   "outputs": [],
   "source": [
    "df_clean.drop(drop_columns, axis=1 , inplace = True)"
   ]
  },
  {
   "cell_type": "markdown",
   "metadata": {},
   "source": [
    "# Test"
   ]
  },
  {
   "cell_type": "code",
   "execution_count": 18,
   "metadata": {},
   "outputs": [
    {
     "data": {
      "text/plain": [
       "Index(['budget', 'revenue', 'original_title', 'cast', 'director', 'tagline',\n",
       "       'runtime', 'genres', 'release_date', 'release_year'],\n",
       "      dtype='object')"
      ]
     },
     "execution_count": 18,
     "metadata": {},
     "output_type": "execute_result"
    }
   ],
   "source": [
    "df_clean.columns"
   ]
  },
  {
   "cell_type": "code",
   "execution_count": 19,
   "metadata": {},
   "outputs": [
    {
     "name": "stdout",
     "output_type": "stream",
     "text": [
      "<class 'pandas.core.frame.DataFrame'>\n",
      "Int64Index: 10865 entries, 0 to 10865\n",
      "Data columns (total 10 columns):\n",
      " #   Column          Non-Null Count  Dtype         \n",
      "---  ------          --------------  -----         \n",
      " 0   budget          10865 non-null  int64         \n",
      " 1   revenue         10865 non-null  int64         \n",
      " 2   original_title  10865 non-null  object        \n",
      " 3   cast            10789 non-null  object        \n",
      " 4   director        10821 non-null  object        \n",
      " 5   tagline         8041 non-null   object        \n",
      " 6   runtime         10865 non-null  int64         \n",
      " 7   genres          10842 non-null  object        \n",
      " 8   release_date    10865 non-null  datetime64[ns]\n",
      " 9   release_year    10865 non-null  object        \n",
      "dtypes: datetime64[ns](1), int64(3), object(6)\n",
      "memory usage: 933.7+ KB\n"
     ]
    }
   ],
   "source": [
    "df_clean.info()"
   ]
  },
  {
   "cell_type": "markdown",
   "metadata": {},
   "source": [
    "# Define\n",
    " - Replace '0' with 'NAN' in columns: \n",
    " - 1- budget \n",
    " - 2-revenue \n",
    " - 3-runtime \n"
   ]
  },
  {
   "cell_type": "markdown",
   "metadata": {},
   "source": [
    "# Code"
   ]
  },
  {
   "cell_type": "code",
   "execution_count": 20,
   "metadata": {},
   "outputs": [],
   "source": [
    "df_clean['budget'] =df_clean['budget'].replace(0, np.NAN)"
   ]
  },
  {
   "cell_type": "code",
   "execution_count": 21,
   "metadata": {},
   "outputs": [],
   "source": [
    "df_clean['revenue'] =df_clean['revenue'].replace(0, np.NAN)"
   ]
  },
  {
   "cell_type": "code",
   "execution_count": 22,
   "metadata": {},
   "outputs": [],
   "source": [
    "df_clean['runtime'] =df_clean['runtime'].replace(0, np.NAN)"
   ]
  },
  {
   "cell_type": "markdown",
   "metadata": {},
   "source": [
    "# Test"
   ]
  },
  {
   "cell_type": "code",
   "execution_count": 23,
   "metadata": {},
   "outputs": [
    {
     "data": {
      "text/html": [
       "<div>\n",
       "<style scoped>\n",
       "    .dataframe tbody tr th:only-of-type {\n",
       "        vertical-align: middle;\n",
       "    }\n",
       "\n",
       "    .dataframe tbody tr th {\n",
       "        vertical-align: top;\n",
       "    }\n",
       "\n",
       "    .dataframe thead th {\n",
       "        text-align: right;\n",
       "    }\n",
       "</style>\n",
       "<table border=\"1\" class=\"dataframe\">\n",
       "  <thead>\n",
       "    <tr style=\"text-align: right;\">\n",
       "      <th></th>\n",
       "      <th>budget</th>\n",
       "      <th>revenue</th>\n",
       "      <th>original_title</th>\n",
       "      <th>cast</th>\n",
       "      <th>director</th>\n",
       "      <th>tagline</th>\n",
       "      <th>runtime</th>\n",
       "      <th>genres</th>\n",
       "      <th>release_date</th>\n",
       "      <th>release_year</th>\n",
       "    </tr>\n",
       "  </thead>\n",
       "  <tbody>\n",
       "  </tbody>\n",
       "</table>\n",
       "</div>"
      ],
      "text/plain": [
       "Empty DataFrame\n",
       "Columns: [budget, revenue, original_title, cast, director, tagline, runtime, genres, release_date, release_year]\n",
       "Index: []"
      ]
     },
     "execution_count": 23,
     "metadata": {},
     "output_type": "execute_result"
    }
   ],
   "source": [
    "df_clean[df_clean['budget'] == 0]"
   ]
  },
  {
   "cell_type": "code",
   "execution_count": 24,
   "metadata": {},
   "outputs": [
    {
     "data": {
      "text/html": [
       "<div>\n",
       "<style scoped>\n",
       "    .dataframe tbody tr th:only-of-type {\n",
       "        vertical-align: middle;\n",
       "    }\n",
       "\n",
       "    .dataframe tbody tr th {\n",
       "        vertical-align: top;\n",
       "    }\n",
       "\n",
       "    .dataframe thead th {\n",
       "        text-align: right;\n",
       "    }\n",
       "</style>\n",
       "<table border=\"1\" class=\"dataframe\">\n",
       "  <thead>\n",
       "    <tr style=\"text-align: right;\">\n",
       "      <th></th>\n",
       "      <th>budget</th>\n",
       "      <th>revenue</th>\n",
       "      <th>original_title</th>\n",
       "      <th>cast</th>\n",
       "      <th>director</th>\n",
       "      <th>tagline</th>\n",
       "      <th>runtime</th>\n",
       "      <th>genres</th>\n",
       "      <th>release_date</th>\n",
       "      <th>release_year</th>\n",
       "    </tr>\n",
       "  </thead>\n",
       "  <tbody>\n",
       "  </tbody>\n",
       "</table>\n",
       "</div>"
      ],
      "text/plain": [
       "Empty DataFrame\n",
       "Columns: [budget, revenue, original_title, cast, director, tagline, runtime, genres, release_date, release_year]\n",
       "Index: []"
      ]
     },
     "execution_count": 24,
     "metadata": {},
     "output_type": "execute_result"
    }
   ],
   "source": [
    "df_clean[df_clean['revenue'] == 0]"
   ]
  },
  {
   "cell_type": "code",
   "execution_count": 25,
   "metadata": {},
   "outputs": [
    {
     "data": {
      "text/html": [
       "<div>\n",
       "<style scoped>\n",
       "    .dataframe tbody tr th:only-of-type {\n",
       "        vertical-align: middle;\n",
       "    }\n",
       "\n",
       "    .dataframe tbody tr th {\n",
       "        vertical-align: top;\n",
       "    }\n",
       "\n",
       "    .dataframe thead th {\n",
       "        text-align: right;\n",
       "    }\n",
       "</style>\n",
       "<table border=\"1\" class=\"dataframe\">\n",
       "  <thead>\n",
       "    <tr style=\"text-align: right;\">\n",
       "      <th></th>\n",
       "      <th>budget</th>\n",
       "      <th>revenue</th>\n",
       "      <th>original_title</th>\n",
       "      <th>cast</th>\n",
       "      <th>director</th>\n",
       "      <th>tagline</th>\n",
       "      <th>runtime</th>\n",
       "      <th>genres</th>\n",
       "      <th>release_date</th>\n",
       "      <th>release_year</th>\n",
       "    </tr>\n",
       "  </thead>\n",
       "  <tbody>\n",
       "  </tbody>\n",
       "</table>\n",
       "</div>"
      ],
      "text/plain": [
       "Empty DataFrame\n",
       "Columns: [budget, revenue, original_title, cast, director, tagline, runtime, genres, release_date, release_year]\n",
       "Index: []"
      ]
     },
     "execution_count": 25,
     "metadata": {},
     "output_type": "execute_result"
    }
   ],
   "source": [
    "df_clean[df_clean['runtime'] == 0]"
   ]
  },
  {
   "cell_type": "markdown",
   "metadata": {},
   "source": [
    "# Define\n",
    "  - Removing all rows with NAN values for better  analysis and visualization of data"
   ]
  },
  {
   "cell_type": "markdown",
   "metadata": {},
   "source": [
    "# Code"
   ]
  },
  {
   "cell_type": "code",
   "execution_count": 26,
   "metadata": {},
   "outputs": [],
   "source": [
    "df_clean.dropna(axis = 0 , inplace = True)"
   ]
  },
  {
   "cell_type": "code",
   "execution_count": 27,
   "metadata": {},
   "outputs": [],
   "source": [
    "df_clean['budget']=df_clean['budget'].astype(np.int64)\n",
    "df_clean['revenue']=df_clean['revenue'].astype(np.int64)"
   ]
  },
  {
   "cell_type": "code",
   "execution_count": 28,
   "metadata": {},
   "outputs": [
    {
     "name": "stdout",
     "output_type": "stream",
     "text": [
      "<class 'pandas.core.frame.DataFrame'>\n",
      "Int64Index: 3572 entries, 0 to 10848\n",
      "Data columns (total 10 columns):\n",
      " #   Column          Non-Null Count  Dtype         \n",
      "---  ------          --------------  -----         \n",
      " 0   budget          3572 non-null   int64         \n",
      " 1   revenue         3572 non-null   int64         \n",
      " 2   original_title  3572 non-null   object        \n",
      " 3   cast            3572 non-null   object        \n",
      " 4   director        3572 non-null   object        \n",
      " 5   tagline         3572 non-null   object        \n",
      " 6   runtime         3572 non-null   float64       \n",
      " 7   genres          3572 non-null   object        \n",
      " 8   release_date    3572 non-null   datetime64[ns]\n",
      " 9   release_year    3572 non-null   object        \n",
      "dtypes: datetime64[ns](1), float64(1), int64(2), object(6)\n",
      "memory usage: 307.0+ KB\n"
     ]
    }
   ],
   "source": [
    "df_clean.info()"
   ]
  },
  {
   "cell_type": "markdown",
   "metadata": {},
   "source": [
    "# Define\n",
    "### Adding column which represent the profit of movies (revenue - budget)"
   ]
  },
  {
   "cell_type": "markdown",
   "metadata": {},
   "source": [
    "# Code"
   ]
  },
  {
   "cell_type": "code",
   "execution_count": 29,
   "metadata": {},
   "outputs": [],
   "source": [
    "# For best analysis i will add profit column (revenue - budget)\n",
    "df_clean.insert(2, 'profit', df_clean['revenue'] - df_clean['budget'])"
   ]
  },
  {
   "cell_type": "markdown",
   "metadata": {},
   "source": [
    "# Test"
   ]
  },
  {
   "cell_type": "code",
   "execution_count": 30,
   "metadata": {},
   "outputs": [
    {
     "data": {
      "text/html": [
       "<div>\n",
       "<style scoped>\n",
       "    .dataframe tbody tr th:only-of-type {\n",
       "        vertical-align: middle;\n",
       "    }\n",
       "\n",
       "    .dataframe tbody tr th {\n",
       "        vertical-align: top;\n",
       "    }\n",
       "\n",
       "    .dataframe thead th {\n",
       "        text-align: right;\n",
       "    }\n",
       "</style>\n",
       "<table border=\"1\" class=\"dataframe\">\n",
       "  <thead>\n",
       "    <tr style=\"text-align: right;\">\n",
       "      <th></th>\n",
       "      <th>budget</th>\n",
       "      <th>revenue</th>\n",
       "      <th>profit</th>\n",
       "      <th>original_title</th>\n",
       "      <th>cast</th>\n",
       "      <th>director</th>\n",
       "      <th>tagline</th>\n",
       "      <th>runtime</th>\n",
       "      <th>genres</th>\n",
       "      <th>release_date</th>\n",
       "      <th>release_year</th>\n",
       "    </tr>\n",
       "  </thead>\n",
       "  <tbody>\n",
       "    <tr>\n",
       "      <th>0</th>\n",
       "      <td>150000000</td>\n",
       "      <td>1513528810</td>\n",
       "      <td>1363528810</td>\n",
       "      <td>Jurassic World</td>\n",
       "      <td>Chris Pratt|Bryce Dallas Howard|Irrfan Khan|Vi...</td>\n",
       "      <td>Colin Trevorrow</td>\n",
       "      <td>The park is open.</td>\n",
       "      <td>124.0</td>\n",
       "      <td>Action|Adventure|Science Fiction|Thriller</td>\n",
       "      <td>2015-06-09</td>\n",
       "      <td>2015</td>\n",
       "    </tr>\n",
       "    <tr>\n",
       "      <th>1</th>\n",
       "      <td>150000000</td>\n",
       "      <td>378436354</td>\n",
       "      <td>228436354</td>\n",
       "      <td>Mad Max: Fury Road</td>\n",
       "      <td>Tom Hardy|Charlize Theron|Hugh Keays-Byrne|Nic...</td>\n",
       "      <td>George Miller</td>\n",
       "      <td>What a Lovely Day.</td>\n",
       "      <td>120.0</td>\n",
       "      <td>Action|Adventure|Science Fiction|Thriller</td>\n",
       "      <td>2015-05-13</td>\n",
       "      <td>2015</td>\n",
       "    </tr>\n",
       "    <tr>\n",
       "      <th>2</th>\n",
       "      <td>110000000</td>\n",
       "      <td>295238201</td>\n",
       "      <td>185238201</td>\n",
       "      <td>Insurgent</td>\n",
       "      <td>Shailene Woodley|Theo James|Kate Winslet|Ansel...</td>\n",
       "      <td>Robert Schwentke</td>\n",
       "      <td>One Choice Can Destroy You</td>\n",
       "      <td>119.0</td>\n",
       "      <td>Adventure|Science Fiction|Thriller</td>\n",
       "      <td>2015-03-18</td>\n",
       "      <td>2015</td>\n",
       "    </tr>\n",
       "    <tr>\n",
       "      <th>3</th>\n",
       "      <td>200000000</td>\n",
       "      <td>2068178225</td>\n",
       "      <td>1868178225</td>\n",
       "      <td>Star Wars: The Force Awakens</td>\n",
       "      <td>Harrison Ford|Mark Hamill|Carrie Fisher|Adam D...</td>\n",
       "      <td>J.J. Abrams</td>\n",
       "      <td>Every generation has a story.</td>\n",
       "      <td>136.0</td>\n",
       "      <td>Action|Adventure|Science Fiction|Fantasy</td>\n",
       "      <td>2015-12-15</td>\n",
       "      <td>2015</td>\n",
       "    </tr>\n",
       "    <tr>\n",
       "      <th>4</th>\n",
       "      <td>190000000</td>\n",
       "      <td>1506249360</td>\n",
       "      <td>1316249360</td>\n",
       "      <td>Furious 7</td>\n",
       "      <td>Vin Diesel|Paul Walker|Jason Statham|Michelle ...</td>\n",
       "      <td>James Wan</td>\n",
       "      <td>Vengeance Hits Home</td>\n",
       "      <td>137.0</td>\n",
       "      <td>Action|Crime|Thriller</td>\n",
       "      <td>2015-04-01</td>\n",
       "      <td>2015</td>\n",
       "    </tr>\n",
       "  </tbody>\n",
       "</table>\n",
       "</div>"
      ],
      "text/plain": [
       "      budget     revenue      profit                original_title  \\\n",
       "0  150000000  1513528810  1363528810                Jurassic World   \n",
       "1  150000000   378436354   228436354            Mad Max: Fury Road   \n",
       "2  110000000   295238201   185238201                     Insurgent   \n",
       "3  200000000  2068178225  1868178225  Star Wars: The Force Awakens   \n",
       "4  190000000  1506249360  1316249360                     Furious 7   \n",
       "\n",
       "                                                cast          director  \\\n",
       "0  Chris Pratt|Bryce Dallas Howard|Irrfan Khan|Vi...   Colin Trevorrow   \n",
       "1  Tom Hardy|Charlize Theron|Hugh Keays-Byrne|Nic...     George Miller   \n",
       "2  Shailene Woodley|Theo James|Kate Winslet|Ansel...  Robert Schwentke   \n",
       "3  Harrison Ford|Mark Hamill|Carrie Fisher|Adam D...       J.J. Abrams   \n",
       "4  Vin Diesel|Paul Walker|Jason Statham|Michelle ...         James Wan   \n",
       "\n",
       "                         tagline  runtime  \\\n",
       "0              The park is open.    124.0   \n",
       "1             What a Lovely Day.    120.0   \n",
       "2     One Choice Can Destroy You    119.0   \n",
       "3  Every generation has a story.    136.0   \n",
       "4            Vengeance Hits Home    137.0   \n",
       "\n",
       "                                      genres release_date release_year  \n",
       "0  Action|Adventure|Science Fiction|Thriller   2015-06-09         2015  \n",
       "1  Action|Adventure|Science Fiction|Thriller   2015-05-13         2015  \n",
       "2         Adventure|Science Fiction|Thriller   2015-03-18         2015  \n",
       "3   Action|Adventure|Science Fiction|Fantasy   2015-12-15         2015  \n",
       "4                      Action|Crime|Thriller   2015-04-01         2015  "
      ]
     },
     "execution_count": 30,
     "metadata": {},
     "output_type": "execute_result"
    }
   ],
   "source": [
    "df_clean.head()"
   ]
  },
  {
   "cell_type": "markdown",
   "metadata": {},
   "source": [
    "# Storing Data"
   ]
  },
  {
   "cell_type": "code",
   "execution_count": 31,
   "metadata": {},
   "outputs": [],
   "source": [
    "df_clean.to_csv('tmdb-enhanced-data.csv', index = False)"
   ]
  },
  {
   "cell_type": "code",
   "execution_count": 32,
   "metadata": {},
   "outputs": [],
   "source": [
    "# Making copy of cleaned data to start analyzing it.\n",
    "df2 = df_clean.copy()"
   ]
  },
  {
   "cell_type": "markdown",
   "metadata": {},
   "source": [
    "# Analysis and Visualization of Data"
   ]
  },
  {
   "cell_type": "markdown",
   "metadata": {},
   "source": [
    "### Highest and lowest run time for Movies"
   ]
  },
  {
   "cell_type": "code",
   "execution_count": 42,
   "metadata": {},
   "outputs": [
    {
     "data": {
      "text/html": [
       "<div>\n",
       "<style scoped>\n",
       "    .dataframe tbody tr th:only-of-type {\n",
       "        vertical-align: middle;\n",
       "    }\n",
       "\n",
       "    .dataframe tbody tr th {\n",
       "        vertical-align: top;\n",
       "    }\n",
       "\n",
       "    .dataframe thead th {\n",
       "        text-align: right;\n",
       "    }\n",
       "</style>\n",
       "<table border=\"1\" class=\"dataframe\">\n",
       "  <thead>\n",
       "    <tr style=\"text-align: right;\">\n",
       "      <th></th>\n",
       "      <th>2107</th>\n",
       "      <th>8005</th>\n",
       "    </tr>\n",
       "  </thead>\n",
       "  <tbody>\n",
       "    <tr>\n",
       "      <th>budget</th>\n",
       "      <td>18000000</td>\n",
       "      <td>3000000</td>\n",
       "    </tr>\n",
       "    <tr>\n",
       "      <th>revenue</th>\n",
       "      <td>871279</td>\n",
       "      <td>21000000</td>\n",
       "    </tr>\n",
       "    <tr>\n",
       "      <th>profit</th>\n",
       "      <td>-17128721</td>\n",
       "      <td>18000000</td>\n",
       "    </tr>\n",
       "    <tr>\n",
       "      <th>original_title</th>\n",
       "      <td>Carlos</td>\n",
       "      <td>Mickey's Christmas Carol</td>\n",
       "    </tr>\n",
       "    <tr>\n",
       "      <th>cast</th>\n",
       "      <td>Edgar RamÃ­rez|Alexander Scheer|Fadi Abi Samra...</td>\n",
       "      <td>Alan Young|Wayne Allwine|Clarence Nash|Hal Smi...</td>\n",
       "    </tr>\n",
       "    <tr>\n",
       "      <th>director</th>\n",
       "      <td>Olivier Assayas</td>\n",
       "      <td>Burny Mattinson</td>\n",
       "    </tr>\n",
       "    <tr>\n",
       "      <th>tagline</th>\n",
       "      <td>The man who hijacked the world</td>\n",
       "      <td>He's back! Mickey Mouse - in his first new mot...</td>\n",
       "    </tr>\n",
       "    <tr>\n",
       "      <th>runtime</th>\n",
       "      <td>338</td>\n",
       "      <td>26</td>\n",
       "    </tr>\n",
       "    <tr>\n",
       "      <th>genres</th>\n",
       "      <td>Crime|Drama|Thriller|History</td>\n",
       "      <td>Family|Animation</td>\n",
       "    </tr>\n",
       "    <tr>\n",
       "      <th>release_date</th>\n",
       "      <td>2010-05-19 00:00:00</td>\n",
       "      <td>1983-10-19 00:00:00</td>\n",
       "    </tr>\n",
       "    <tr>\n",
       "      <th>release_year</th>\n",
       "      <td>2010</td>\n",
       "      <td>1983</td>\n",
       "    </tr>\n",
       "  </tbody>\n",
       "</table>\n",
       "</div>"
      ],
      "text/plain": [
       "                                                             2107  \\\n",
       "budget                                                   18000000   \n",
       "revenue                                                    871279   \n",
       "profit                                                  -17128721   \n",
       "original_title                                             Carlos   \n",
       "cast            Edgar RamÃ­rez|Alexander Scheer|Fadi Abi Samra...   \n",
       "director                                          Olivier Assayas   \n",
       "tagline                            The man who hijacked the world   \n",
       "runtime                                                       338   \n",
       "genres                               Crime|Drama|Thriller|History   \n",
       "release_date                                  2010-05-19 00:00:00   \n",
       "release_year                                                 2010   \n",
       "\n",
       "                                                             8005  \n",
       "budget                                                    3000000  \n",
       "revenue                                                  21000000  \n",
       "profit                                                   18000000  \n",
       "original_title                           Mickey's Christmas Carol  \n",
       "cast            Alan Young|Wayne Allwine|Clarence Nash|Hal Smi...  \n",
       "director                                          Burny Mattinson  \n",
       "tagline         He's back! Mickey Mouse - in his first new mot...  \n",
       "runtime                                                        26  \n",
       "genres                                           Family|Animation  \n",
       "release_date                                  1983-10-19 00:00:00  \n",
       "release_year                                                 1983  "
      ]
     },
     "execution_count": 42,
     "metadata": {},
     "output_type": "execute_result"
    }
   ],
   "source": [
    "def highest_and_lowest(most_least):\n",
    "    # detect the movie with high budget\n",
    "    highest = df2[most_least].idxmax()\n",
    "    high_details = pd.DataFrame(df2.loc[highest])\n",
    "    \n",
    "    # detect the movie with lowest budget\n",
    "    lowest = df2[most_least].idxmin()\n",
    "    low_details = pd.DataFrame(df2.loc[lowest])\n",
    "    \n",
    "    #Concat two data frames for best comparison\n",
    "    high_low_info = pd.concat([high_details, low_details], axis=1)\n",
    "    \n",
    "    return high_low_info\n",
    "# Calling the function\n",
    "highest_and_lowest('runtime')\n",
    "    "
   ]
  },
  {
   "cell_type": "markdown",
   "metadata": {},
   "source": [
    "- Movie with id 2017 show the longest run time in data set which about 338 minutes\n",
    "- Movie with id 8005 show the lowest run time which about 26 minute"
   ]
  },
  {
   "cell_type": "markdown",
   "metadata": {},
   "source": [
    "### Movies that have highest and lowest budgets"
   ]
  },
  {
   "cell_type": "code",
   "execution_count": 45,
   "metadata": {},
   "outputs": [
    {
     "data": {
      "text/html": [
       "<div>\n",
       "<style scoped>\n",
       "    .dataframe tbody tr th:only-of-type {\n",
       "        vertical-align: middle;\n",
       "    }\n",
       "\n",
       "    .dataframe tbody tr th {\n",
       "        vertical-align: top;\n",
       "    }\n",
       "\n",
       "    .dataframe thead th {\n",
       "        text-align: right;\n",
       "    }\n",
       "</style>\n",
       "<table border=\"1\" class=\"dataframe\">\n",
       "  <thead>\n",
       "    <tr style=\"text-align: right;\">\n",
       "      <th></th>\n",
       "      <th>2244</th>\n",
       "      <th>2618</th>\n",
       "    </tr>\n",
       "  </thead>\n",
       "  <tbody>\n",
       "    <tr>\n",
       "      <th>budget</th>\n",
       "      <td>425000000</td>\n",
       "      <td>1</td>\n",
       "    </tr>\n",
       "    <tr>\n",
       "      <th>revenue</th>\n",
       "      <td>11087569</td>\n",
       "      <td>100</td>\n",
       "    </tr>\n",
       "    <tr>\n",
       "      <th>profit</th>\n",
       "      <td>-413912431</td>\n",
       "      <td>99</td>\n",
       "    </tr>\n",
       "    <tr>\n",
       "      <th>original_title</th>\n",
       "      <td>The Warrior's Way</td>\n",
       "      <td>Lost &amp; Found</td>\n",
       "    </tr>\n",
       "    <tr>\n",
       "      <th>cast</th>\n",
       "      <td>Kate Bosworth|Jang Dong-gun|Geoffrey Rush|Dann...</td>\n",
       "      <td>David Spade|Sophie Marceau|Ever Carradine|Step...</td>\n",
       "    </tr>\n",
       "    <tr>\n",
       "      <th>director</th>\n",
       "      <td>Sngmoo Lee</td>\n",
       "      <td>Jeff Pollack</td>\n",
       "    </tr>\n",
       "    <tr>\n",
       "      <th>tagline</th>\n",
       "      <td>Assassin. Hero. Legend.</td>\n",
       "      <td>A comedy about a guy who would do anything to ...</td>\n",
       "    </tr>\n",
       "    <tr>\n",
       "      <th>runtime</th>\n",
       "      <td>100</td>\n",
       "      <td>95</td>\n",
       "    </tr>\n",
       "    <tr>\n",
       "      <th>genres</th>\n",
       "      <td>Adventure|Fantasy|Action|Western|Thriller</td>\n",
       "      <td>Comedy|Romance</td>\n",
       "    </tr>\n",
       "    <tr>\n",
       "      <th>release_date</th>\n",
       "      <td>2010-12-02 00:00:00</td>\n",
       "      <td>1999-04-23 00:00:00</td>\n",
       "    </tr>\n",
       "    <tr>\n",
       "      <th>release_year</th>\n",
       "      <td>2010</td>\n",
       "      <td>1999</td>\n",
       "    </tr>\n",
       "  </tbody>\n",
       "</table>\n",
       "</div>"
      ],
      "text/plain": [
       "                                                             2244  \\\n",
       "budget                                                  425000000   \n",
       "revenue                                                  11087569   \n",
       "profit                                                 -413912431   \n",
       "original_title                                  The Warrior's Way   \n",
       "cast            Kate Bosworth|Jang Dong-gun|Geoffrey Rush|Dann...   \n",
       "director                                               Sngmoo Lee   \n",
       "tagline                                   Assassin. Hero. Legend.   \n",
       "runtime                                                       100   \n",
       "genres                  Adventure|Fantasy|Action|Western|Thriller   \n",
       "release_date                                  2010-12-02 00:00:00   \n",
       "release_year                                                 2010   \n",
       "\n",
       "                                                             2618  \n",
       "budget                                                          1  \n",
       "revenue                                                       100  \n",
       "profit                                                         99  \n",
       "original_title                                       Lost & Found  \n",
       "cast            David Spade|Sophie Marceau|Ever Carradine|Step...  \n",
       "director                                             Jeff Pollack  \n",
       "tagline         A comedy about a guy who would do anything to ...  \n",
       "runtime                                                        95  \n",
       "genres                                             Comedy|Romance  \n",
       "release_date                                  1999-04-23 00:00:00  \n",
       "release_year                                                 1999  "
      ]
     },
     "execution_count": 45,
     "metadata": {},
     "output_type": "execute_result"
    }
   ],
   "source": [
    "# Calling the function to show highest and lowest budget\n",
    "highest_and_lowest('budget')"
   ]
  },
  {
   "cell_type": "markdown",
   "metadata": {},
   "source": [
    "### Movies with highest and lowest revenue"
   ]
  },
  {
   "cell_type": "code",
   "execution_count": 46,
   "metadata": {},
   "outputs": [
    {
     "data": {
      "text/html": [
       "<div>\n",
       "<style scoped>\n",
       "    .dataframe tbody tr th:only-of-type {\n",
       "        vertical-align: middle;\n",
       "    }\n",
       "\n",
       "    .dataframe tbody tr th {\n",
       "        vertical-align: top;\n",
       "    }\n",
       "\n",
       "    .dataframe thead th {\n",
       "        text-align: right;\n",
       "    }\n",
       "</style>\n",
       "<table border=\"1\" class=\"dataframe\">\n",
       "  <thead>\n",
       "    <tr style=\"text-align: right;\">\n",
       "      <th></th>\n",
       "      <th>1386</th>\n",
       "      <th>8142</th>\n",
       "    </tr>\n",
       "  </thead>\n",
       "  <tbody>\n",
       "    <tr>\n",
       "      <th>budget</th>\n",
       "      <td>237000000</td>\n",
       "      <td>6000000</td>\n",
       "    </tr>\n",
       "    <tr>\n",
       "      <th>revenue</th>\n",
       "      <td>2781505847</td>\n",
       "      <td>2</td>\n",
       "    </tr>\n",
       "    <tr>\n",
       "      <th>profit</th>\n",
       "      <td>2544505847</td>\n",
       "      <td>-5999998</td>\n",
       "    </tr>\n",
       "    <tr>\n",
       "      <th>original_title</th>\n",
       "      <td>Avatar</td>\n",
       "      <td>Mallrats</td>\n",
       "    </tr>\n",
       "    <tr>\n",
       "      <th>cast</th>\n",
       "      <td>Sam Worthington|Zoe Saldana|Sigourney Weaver|S...</td>\n",
       "      <td>Jason Lee|Jeremy London|Shannen Doherty|Claire...</td>\n",
       "    </tr>\n",
       "    <tr>\n",
       "      <th>director</th>\n",
       "      <td>James Cameron</td>\n",
       "      <td>Kevin Smith</td>\n",
       "    </tr>\n",
       "    <tr>\n",
       "      <th>tagline</th>\n",
       "      <td>Enter the World of Pandora.</td>\n",
       "      <td>They're not there to shop. They're not there t...</td>\n",
       "    </tr>\n",
       "    <tr>\n",
       "      <th>runtime</th>\n",
       "      <td>162</td>\n",
       "      <td>94</td>\n",
       "    </tr>\n",
       "    <tr>\n",
       "      <th>genres</th>\n",
       "      <td>Action|Adventure|Fantasy|Science Fiction</td>\n",
       "      <td>Romance|Comedy</td>\n",
       "    </tr>\n",
       "    <tr>\n",
       "      <th>release_date</th>\n",
       "      <td>2009-12-10 00:00:00</td>\n",
       "      <td>1995-10-20 00:00:00</td>\n",
       "    </tr>\n",
       "    <tr>\n",
       "      <th>release_year</th>\n",
       "      <td>2009</td>\n",
       "      <td>1995</td>\n",
       "    </tr>\n",
       "  </tbody>\n",
       "</table>\n",
       "</div>"
      ],
      "text/plain": [
       "                                                             1386  \\\n",
       "budget                                                  237000000   \n",
       "revenue                                                2781505847   \n",
       "profit                                                 2544505847   \n",
       "original_title                                             Avatar   \n",
       "cast            Sam Worthington|Zoe Saldana|Sigourney Weaver|S...   \n",
       "director                                            James Cameron   \n",
       "tagline                               Enter the World of Pandora.   \n",
       "runtime                                                       162   \n",
       "genres                   Action|Adventure|Fantasy|Science Fiction   \n",
       "release_date                                  2009-12-10 00:00:00   \n",
       "release_year                                                 2009   \n",
       "\n",
       "                                                             8142  \n",
       "budget                                                    6000000  \n",
       "revenue                                                         2  \n",
       "profit                                                   -5999998  \n",
       "original_title                                           Mallrats  \n",
       "cast            Jason Lee|Jeremy London|Shannen Doherty|Claire...  \n",
       "director                                              Kevin Smith  \n",
       "tagline         They're not there to shop. They're not there t...  \n",
       "runtime                                                        94  \n",
       "genres                                             Romance|Comedy  \n",
       "release_date                                  1995-10-20 00:00:00  \n",
       "release_year                                                 1995  "
      ]
     },
     "execution_count": 46,
     "metadata": {},
     "output_type": "execute_result"
    }
   ],
   "source": [
    "# Calling the function to show highest and lowest revenue\n",
    "highest_and_lowest('revenue')\n",
    "    "
   ]
  },
  {
   "cell_type": "markdown",
   "metadata": {},
   "source": [
    "### Movies with highest and lowest Profit"
   ]
  },
  {
   "cell_type": "code",
   "execution_count": 47,
   "metadata": {},
   "outputs": [
    {
     "data": {
      "text/html": [
       "<div>\n",
       "<style scoped>\n",
       "    .dataframe tbody tr th:only-of-type {\n",
       "        vertical-align: middle;\n",
       "    }\n",
       "\n",
       "    .dataframe tbody tr th {\n",
       "        vertical-align: top;\n",
       "    }\n",
       "\n",
       "    .dataframe thead th {\n",
       "        text-align: right;\n",
       "    }\n",
       "</style>\n",
       "<table border=\"1\" class=\"dataframe\">\n",
       "  <thead>\n",
       "    <tr style=\"text-align: right;\">\n",
       "      <th></th>\n",
       "      <th>1386</th>\n",
       "      <th>2244</th>\n",
       "    </tr>\n",
       "  </thead>\n",
       "  <tbody>\n",
       "    <tr>\n",
       "      <th>budget</th>\n",
       "      <td>237000000</td>\n",
       "      <td>425000000</td>\n",
       "    </tr>\n",
       "    <tr>\n",
       "      <th>revenue</th>\n",
       "      <td>2781505847</td>\n",
       "      <td>11087569</td>\n",
       "    </tr>\n",
       "    <tr>\n",
       "      <th>profit</th>\n",
       "      <td>2544505847</td>\n",
       "      <td>-413912431</td>\n",
       "    </tr>\n",
       "    <tr>\n",
       "      <th>original_title</th>\n",
       "      <td>Avatar</td>\n",
       "      <td>The Warrior's Way</td>\n",
       "    </tr>\n",
       "    <tr>\n",
       "      <th>cast</th>\n",
       "      <td>Sam Worthington|Zoe Saldana|Sigourney Weaver|S...</td>\n",
       "      <td>Kate Bosworth|Jang Dong-gun|Geoffrey Rush|Dann...</td>\n",
       "    </tr>\n",
       "    <tr>\n",
       "      <th>director</th>\n",
       "      <td>James Cameron</td>\n",
       "      <td>Sngmoo Lee</td>\n",
       "    </tr>\n",
       "    <tr>\n",
       "      <th>tagline</th>\n",
       "      <td>Enter the World of Pandora.</td>\n",
       "      <td>Assassin. Hero. Legend.</td>\n",
       "    </tr>\n",
       "    <tr>\n",
       "      <th>runtime</th>\n",
       "      <td>162</td>\n",
       "      <td>100</td>\n",
       "    </tr>\n",
       "    <tr>\n",
       "      <th>genres</th>\n",
       "      <td>Action|Adventure|Fantasy|Science Fiction</td>\n",
       "      <td>Adventure|Fantasy|Action|Western|Thriller</td>\n",
       "    </tr>\n",
       "    <tr>\n",
       "      <th>release_date</th>\n",
       "      <td>2009-12-10 00:00:00</td>\n",
       "      <td>2010-12-02 00:00:00</td>\n",
       "    </tr>\n",
       "    <tr>\n",
       "      <th>release_year</th>\n",
       "      <td>2009</td>\n",
       "      <td>2010</td>\n",
       "    </tr>\n",
       "  </tbody>\n",
       "</table>\n",
       "</div>"
      ],
      "text/plain": [
       "                                                             1386  \\\n",
       "budget                                                  237000000   \n",
       "revenue                                                2781505847   \n",
       "profit                                                 2544505847   \n",
       "original_title                                             Avatar   \n",
       "cast            Sam Worthington|Zoe Saldana|Sigourney Weaver|S...   \n",
       "director                                            James Cameron   \n",
       "tagline                               Enter the World of Pandora.   \n",
       "runtime                                                       162   \n",
       "genres                   Action|Adventure|Fantasy|Science Fiction   \n",
       "release_date                                  2009-12-10 00:00:00   \n",
       "release_year                                                 2009   \n",
       "\n",
       "                                                             2244  \n",
       "budget                                                  425000000  \n",
       "revenue                                                  11087569  \n",
       "profit                                                 -413912431  \n",
       "original_title                                  The Warrior's Way  \n",
       "cast            Kate Bosworth|Jang Dong-gun|Geoffrey Rush|Dann...  \n",
       "director                                               Sngmoo Lee  \n",
       "tagline                                   Assassin. Hero. Legend.  \n",
       "runtime                                                       100  \n",
       "genres                  Adventure|Fantasy|Action|Western|Thriller  \n",
       "release_date                                  2010-12-02 00:00:00  \n",
       "release_year                                                 2010  "
      ]
     },
     "execution_count": 47,
     "metadata": {},
     "output_type": "execute_result"
    }
   ],
   "source": [
    "def profit(most_least_profit):\n",
    "    # detect the movie with high budget\n",
    "    high_profit = df2[most_least_profit].idxmax()\n",
    "    high_profit_details = pd.DataFrame(df2.loc[high_profit])\n",
    "    \n",
    "    # detect the movie with lowest budget\n",
    "    low_profit = df2[most_least_profit].idxmin()\n",
    "    low_profit_details = pd.DataFrame(df2.loc[low_profit])\n",
    "    \n",
    "    #Concat two data frames for best comparison\n",
    "    profit_info = pd.concat([high_profit_details, low_profit_details], axis=1)\n",
    "    \n",
    "    return profit_info\n",
    "\n",
    "# Calling the function\n",
    "profit('profit')"
   ]
  },
  {
   "cell_type": "markdown",
   "metadata": {},
   "source": []
  },
  {
   "cell_type": "markdown",
   "metadata": {},
   "source": [
    "## Discuss for each year, sum of profits of movies "
   ]
  },
  {
   "cell_type": "code",
   "execution_count": 39,
   "metadata": {},
   "outputs": [
    {
     "data": {
      "image/png": "[encoded data removed]",
      "text/plain": [
       "<Figure size 3600x1200 with 1 Axes>"
      ]
     },
     "metadata": {
      "needs_background": "light"
     },
     "output_type": "display_data"
    }
   ],
   "source": [
    "profits_per_year = df2.groupby('release_year')['profit'].sum()\n",
    "\n",
    "#figure size(width, height)\n",
    "plt.figure(figsize=(30,10), dpi = 120)\n",
    "\n",
    "#Rename x-axis\n",
    "plt.xlabel('Release Year of Movies ', fontsize = 18)\n",
    "\n",
    "# Rename y-axis\n",
    "plt.ylabel('Profits earned by Movies', fontsize = 18)\n",
    "\n",
    "#title of the line plot\n",
    "plt.title(' Total earned Profits by all movies Vs Year of their release', fontsize = 18)\n",
    "\n",
    "#plotting the graph\n",
    "plt.plot(profits_per_year)\n",
    "\n",
    "#displaying the line plot\n",
    "plt.show()"
   ]
  },
  {
   "cell_type": "markdown",
   "metadata": {},
   "source": [
    "From above plot i realized that 2015 has most no.of profitable movies"
   ]
  },
  {
   "cell_type": "code",
   "execution_count": 60,
   "metadata": {},
   "outputs": [
    {
     "data": {
      "text/plain": [
       "'2015'"
      ]
     },
     "execution_count": 60,
     "metadata": {},
     "output_type": "execute_result"
    }
   ],
   "source": [
    "# To prove my conclusion \n",
    "profits_per_year.idxmax()"
   ]
  },
  {
   "cell_type": "markdown",
   "metadata": {},
   "source": [
    "### Average run time"
   ]
  },
  {
   "cell_type": "code",
   "execution_count": 61,
   "metadata": {},
   "outputs": [
    {
     "data": {
      "text/plain": [
       "109.12290033594626"
      ]
     },
     "execution_count": 61,
     "metadata": {},
     "output_type": "execute_result"
    }
   ],
   "source": [
    "def average(avg):\n",
    "    average = df2[avg].mean()\n",
    "    return average\n",
    "\n",
    "# Calling the function\n",
    "average('runtime')"
   ]
  },
  {
   "cell_type": "code",
   "execution_count": 58,
   "metadata": {
    "scrolled": false
   },
   "outputs": [
    {
     "data": {
      "text/plain": [
       "count    3572.000000\n",
       "mean      109.122900\n",
       "std        19.686816\n",
       "min        26.000000\n",
       "25%        96.000000\n",
       "50%       106.000000\n",
       "75%       119.000000\n",
       "max       338.000000\n",
       "Name: runtime, dtype: float64"
      ]
     },
     "execution_count": 58,
     "metadata": {},
     "output_type": "execute_result"
    }
   ],
   "source": [
    "df2['runtime'].describe()"
   ]
  },
  {
   "cell_type": "markdown",
   "metadata": {},
   "source": [
    "## By looking to above statistics i realized that:\n",
    "  - 25% of the movies have a runtime of less than 95 minutes\n",
    "  - 50% (median) of movies have a runtime of less than 109 minutes.\n",
    "  - 75% of movies have a runtime of less than 119 minutes"
   ]
  },
  {
   "cell_type": "markdown",
   "metadata": {},
   "source": [
    "### plotting a histogram for runtime of movies\n",
    "  - The average runtime of a movie is 109 minutes. Now I'll analyse this value from a visual perspective"
   ]
  },
  {
   "cell_type": "code",
   "execution_count": 41,
   "metadata": {},
   "outputs": [
    {
     "data": {
      "image/png": "[encoded data removed]",
      "text/plain": [
       "<Figure size 1440x720 with 1 Axes>"
      ]
     },
     "metadata": {
      "needs_background": "light"
     },
     "output_type": "display_data"
    }
   ],
   "source": [
    "plt.figure(figsize=(12,6), dpi = 120)\n",
    "\n",
    "# x-axis title \n",
    "plt.xlabel('Runtime of the Movies', fontsize = 14)\n",
    "# y-axis title \n",
    "plt.ylabel('No.of Movies in the Dataset', fontsize=14)\n",
    "# graph title\n",
    "plt.title('Runtime of all the movies', fontsize=16)\n",
    "\n",
    "# histogram plot\n",
    "plt.hist(df2['runtime'], rwidth = 0.7, bins =25)\n",
    "\n",
    "plt.show()"
   ]
  },
  {
   "cell_type": "markdown",
   "metadata": {},
   "source": [
    "The distribution of the above graph is positively or right skewed, so most of the movies duarations in range from 80 to 115 minutes. Almost 1000 and more no.of movies fall in this range of run time"
   ]
  },
  {
   "cell_type": "markdown",
   "metadata": {},
   "source": [
    "### Statistical Properties of profit"
   ]
  },
  {
   "cell_type": "code",
   "execution_count": 50,
   "metadata": {},
   "outputs": [
    {
     "data": {
      "text/plain": [
       "count    3.572000e+03\n",
       "mean     7.511899e+07\n",
       "std      1.545935e+08\n",
       "min     -4.139124e+08\n",
       "25%     -5.251055e+05\n",
       "50%      2.317012e+07\n",
       "75%      8.958184e+07\n",
       "max      2.544506e+09\n",
       "Name: profit, dtype: float64"
      ]
     },
     "execution_count": 50,
     "metadata": {},
     "output_type": "execute_result"
    }
   ],
   "source": [
    "df2.profit.describe()"
   ]
  },
  {
   "cell_type": "code",
   "execution_count": 51,
   "metadata": {},
   "outputs": [
    {
     "data": {
      "image/png": "[encoded data removed]",
      "text/plain": [
       "<Figure size 1680x960 with 1 Axes>"
      ]
     },
     "metadata": {
      "needs_background": "light"
     },
     "output_type": "display_data"
    }
   ],
   "source": [
    "plt.figure(figsize=(14,8), dpi = 120)\n",
    "\n",
    "# x-axis title \n",
    "plt.xlabel('profit of the Movies', fontsize = 14)\n",
    "# y-axis title \n",
    "plt.ylabel('No.of Movies in the Dataset', fontsize=14)\n",
    "# graph title\n",
    "plt.title('Profit of all the movies', fontsize=16)\n",
    "\n",
    "# histogram plot\n",
    "plt.hist(df2['profit'], rwidth = 0.9, bins =40)\n",
    "\n",
    "plt.show()"
   ]
  },
  {
   "cell_type": "markdown",
   "metadata": {},
   "source": [
    "### By looking to the above statistics i realized that:\n",
    "   - 25% of the movies have a negative profit which mean that these movies was failed and have the revenue less than main budget \n",
    "   - 50% (median) of movies have a Profit  less than 75118992.\n",
    "   - 75% of movies have a Profit  above mean average (75118992)"
   ]
  },
  {
   "cell_type": "markdown",
   "metadata": {},
   "source": [
    "The distribution of the above graph is positively or right skewed i realized that:\n",
    "- More than 1750 movies have 0 budget which is limitation of data  \n",
    "- More than 750 of movies profit in range from 100 Millon to 500 Million "
   ]
  },
  {
   "cell_type": "markdown",
   "metadata": {},
   "source": [
    "## Discuss the characteristics that lead to profitable movie"
   ]
  },
  {
   "cell_type": "code",
   "execution_count": 52,
   "metadata": {},
   "outputs": [
    {
     "data": {
      "text/html": [
       "<div>\n",
       "<style scoped>\n",
       "    .dataframe tbody tr th:only-of-type {\n",
       "        vertical-align: middle;\n",
       "    }\n",
       "\n",
       "    .dataframe tbody tr th {\n",
       "        vertical-align: top;\n",
       "    }\n",
       "\n",
       "    .dataframe thead th {\n",
       "        text-align: right;\n",
       "    }\n",
       "</style>\n",
       "<table border=\"1\" class=\"dataframe\">\n",
       "  <thead>\n",
       "    <tr style=\"text-align: right;\">\n",
       "      <th></th>\n",
       "      <th>budget</th>\n",
       "      <th>revenue</th>\n",
       "      <th>profit</th>\n",
       "      <th>original_title</th>\n",
       "      <th>cast</th>\n",
       "      <th>director</th>\n",
       "      <th>tagline</th>\n",
       "      <th>runtime</th>\n",
       "      <th>genres</th>\n",
       "      <th>release_date</th>\n",
       "      <th>release_year</th>\n",
       "    </tr>\n",
       "  </thead>\n",
       "  <tbody>\n",
       "    <tr>\n",
       "      <th>1</th>\n",
       "      <td>150000000</td>\n",
       "      <td>1513528810</td>\n",
       "      <td>1363528810</td>\n",
       "      <td>Jurassic World</td>\n",
       "      <td>Chris Pratt|Bryce Dallas Howard|Irrfan Khan|Vi...</td>\n",
       "      <td>Colin Trevorrow</td>\n",
       "      <td>The park is open.</td>\n",
       "      <td>124.0</td>\n",
       "      <td>Action|Adventure|Science Fiction|Thriller</td>\n",
       "      <td>2015-06-09</td>\n",
       "      <td>2015</td>\n",
       "    </tr>\n",
       "    <tr>\n",
       "      <th>2</th>\n",
       "      <td>150000000</td>\n",
       "      <td>378436354</td>\n",
       "      <td>228436354</td>\n",
       "      <td>Mad Max: Fury Road</td>\n",
       "      <td>Tom Hardy|Charlize Theron|Hugh Keays-Byrne|Nic...</td>\n",
       "      <td>George Miller</td>\n",
       "      <td>What a Lovely Day.</td>\n",
       "      <td>120.0</td>\n",
       "      <td>Action|Adventure|Science Fiction|Thriller</td>\n",
       "      <td>2015-05-13</td>\n",
       "      <td>2015</td>\n",
       "    </tr>\n",
       "    <tr>\n",
       "      <th>3</th>\n",
       "      <td>110000000</td>\n",
       "      <td>295238201</td>\n",
       "      <td>185238201</td>\n",
       "      <td>Insurgent</td>\n",
       "      <td>Shailene Woodley|Theo James|Kate Winslet|Ansel...</td>\n",
       "      <td>Robert Schwentke</td>\n",
       "      <td>One Choice Can Destroy You</td>\n",
       "      <td>119.0</td>\n",
       "      <td>Adventure|Science Fiction|Thriller</td>\n",
       "      <td>2015-03-18</td>\n",
       "      <td>2015</td>\n",
       "    </tr>\n",
       "    <tr>\n",
       "      <th>4</th>\n",
       "      <td>200000000</td>\n",
       "      <td>2068178225</td>\n",
       "      <td>1868178225</td>\n",
       "      <td>Star Wars: The Force Awakens</td>\n",
       "      <td>Harrison Ford|Mark Hamill|Carrie Fisher|Adam D...</td>\n",
       "      <td>J.J. Abrams</td>\n",
       "      <td>Every generation has a story.</td>\n",
       "      <td>136.0</td>\n",
       "      <td>Action|Adventure|Science Fiction|Fantasy</td>\n",
       "      <td>2015-12-15</td>\n",
       "      <td>2015</td>\n",
       "    </tr>\n",
       "    <tr>\n",
       "      <th>5</th>\n",
       "      <td>190000000</td>\n",
       "      <td>1506249360</td>\n",
       "      <td>1316249360</td>\n",
       "      <td>Furious 7</td>\n",
       "      <td>Vin Diesel|Paul Walker|Jason Statham|Michelle ...</td>\n",
       "      <td>James Wan</td>\n",
       "      <td>Vengeance Hits Home</td>\n",
       "      <td>137.0</td>\n",
       "      <td>Action|Crime|Thriller</td>\n",
       "      <td>2015-04-01</td>\n",
       "      <td>2015</td>\n",
       "    </tr>\n",
       "  </tbody>\n",
       "</table>\n",
       "</div>"
      ],
      "text/plain": [
       "      budget     revenue      profit                original_title  \\\n",
       "1  150000000  1513528810  1363528810                Jurassic World   \n",
       "2  150000000   378436354   228436354            Mad Max: Fury Road   \n",
       "3  110000000   295238201   185238201                     Insurgent   \n",
       "4  200000000  2068178225  1868178225  Star Wars: The Force Awakens   \n",
       "5  190000000  1506249360  1316249360                     Furious 7   \n",
       "\n",
       "                                                cast          director  \\\n",
       "1  Chris Pratt|Bryce Dallas Howard|Irrfan Khan|Vi...   Colin Trevorrow   \n",
       "2  Tom Hardy|Charlize Theron|Hugh Keays-Byrne|Nic...     George Miller   \n",
       "3  Shailene Woodley|Theo James|Kate Winslet|Ansel...  Robert Schwentke   \n",
       "4  Harrison Ford|Mark Hamill|Carrie Fisher|Adam D...       J.J. Abrams   \n",
       "5  Vin Diesel|Paul Walker|Jason Statham|Michelle ...         James Wan   \n",
       "\n",
       "                         tagline  runtime  \\\n",
       "1              The park is open.    124.0   \n",
       "2             What a Lovely Day.    120.0   \n",
       "3     One Choice Can Destroy You    119.0   \n",
       "4  Every generation has a story.    136.0   \n",
       "5            Vengeance Hits Home    137.0   \n",
       "\n",
       "                                      genres release_date release_year  \n",
       "1  Action|Adventure|Science Fiction|Thriller   2015-06-09         2015  \n",
       "2  Action|Adventure|Science Fiction|Thriller   2015-05-13         2015  \n",
       "3         Adventure|Science Fiction|Thriller   2015-03-18         2015  \n",
       "4   Action|Adventure|Science Fiction|Fantasy   2015-12-15         2015  \n",
       "5                      Action|Crime|Thriller   2015-04-01         2015  "
      ]
     },
     "execution_count": 52,
     "metadata": {},
     "output_type": "execute_result"
    }
   ],
   "source": [
    "# I will take a data set which the profit is more than mean average\n",
    "profit_new_data = df2[df2['profit'] >= df2.profit.mean()]\n",
    "\n",
    "#reindexing new data\n",
    "profit_new_data.index = range(len(profit_new_data))\n",
    "\n",
    "#i will start indexing from 1 instead of 0\n",
    "profit_new_data.index = profit_new_data.index + 1\n",
    "\n",
    "#printing the new dataset\n",
    "profit_new_data.head(5)"
   ]
  },
  {
   "cell_type": "markdown",
   "metadata": {},
   "source": [
    "### Relation between profit and budget"
   ]
  },
  {
   "cell_type": "code",
   "execution_count": 53,
   "metadata": {},
   "outputs": [
    {
     "data": {
      "text/plain": [
       "67811342.347181"
      ]
     },
     "execution_count": 53,
     "metadata": {},
     "output_type": "execute_result"
    }
   ],
   "source": [
    "def profit_average(avg):\n",
    "    return profit_new_data[avg].mean()\n",
    "# Calling function to calculate average for budget columns\n",
    "profit_average('budget')"
   ]
  },
  {
   "cell_type": "markdown",
   "metadata": {},
   "source": [
    "  - So the movies having profit of 75 million dollar and more have an average budget about 67 million dollar."
   ]
  },
  {
   "cell_type": "markdown",
   "metadata": {},
   "source": [
    "### Relation between profit and revenue"
   ]
  },
  {
   "cell_type": "code",
   "execution_count": 54,
   "metadata": {},
   "outputs": [
    {
     "data": {
      "text/plain": [
       "303556218.9070228"
      ]
     },
     "execution_count": 54,
     "metadata": {},
     "output_type": "execute_result"
    }
   ],
   "source": [
    "# Calling function to calculate average for revenue columns\n",
    "profit_average ('revenue')"
   ]
  },
  {
   "cell_type": "markdown",
   "metadata": {},
   "source": [
    " - So the movies having profit of 75 million dollar and more should have an average revenue about 303  million dollar."
   ]
  },
  {
   "cell_type": "markdown",
   "metadata": {},
   "source": [
    "### Relation between Profit and run time"
   ]
  },
  {
   "cell_type": "code",
   "execution_count": 55,
   "metadata": {},
   "outputs": [
    {
     "data": {
      "text/plain": [
       "114.87932739861523"
      ]
     },
     "execution_count": 55,
     "metadata": {},
     "output_type": "execute_result"
    }
   ],
   "source": [
    "# Calling function to calculate average for runtime columns\n",
    "profit_average('runtime')"
   ]
  },
  {
   "cell_type": "markdown",
   "metadata": {},
   "source": [
    " - So the movies having profit of 75 million dollar and more should have an average runtime about 114  minutes."
   ]
  },
  {
   "cell_type": "markdown",
   "metadata": {},
   "source": [
    "## Conclucion\n",
    "Afte analyzing of TMDb dataset and abstract conclusions after each analysis or visualtion step there was some final thoughts i will share:\n",
    "\n",
    "- For a Movie in order to be considered in a successful criteria:\n",
    "  - Average Budget must be around 67 millon dollar.\n",
    "  - Average runtime of the movie must be 114 minutes.\n",
    "  - Average revenue of the movie must be 303 million dollar or more than the average\n",
    "\n",
    "### Final observation\n",
    "- This analysis of this dataset which was done considering the movies which had a significant amount of profit of around 75 million dollar. \n",
    "- Moreover we are not sure if the data provided to us is completely correct and up-to-date\n",
    "- In budget and revenue column do not have currency unit,so it might be possible that there was movies in this dataset have its budget and revenue in different currency which lead to wrong analysis\n",
    "- Drop rows with missing values also affect the overall analysis.\n"
   ]
  }
 ],
 "metadata": {
  "kernelspec": {
   "display_name": "Python 3",
   "language": "python",
   "name": "python3"
  },
  "language_info": {
   "codemirror_mode": {
    "name": "ipython",
    "version": 3
   },
   "file_extension": ".py",
   "mimetype": "text/x-python",
   "name": "python",
   "nbconvert_exporter": "python",
   "pygments_lexer": "ipython3",
   "version": "3.8.5"
  }
 },
 "nbformat": 4,
 "nbformat_minor": 4
}
